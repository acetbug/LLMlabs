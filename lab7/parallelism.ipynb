{
 "cells": [
  {
   "cell_type": "markdown",
   "id": "2eb0f1de",
   "metadata": {},
   "source": [
    "## Running on multiple GPUs using Hugging Face Transformers\n",
    "\n",
    "Naive pipeline parallelism is supported out of the box. For this, simply load the model with device=\"auto\" which will automatically place the different layers on the available GPUs.\n",
    "\n",
    "Your task:\n",
    "\n",
    "1. Create a pod with two 24GB GPUs.\n",
    "\n",
    "2. Try to run the model with device=\"auto\" and see how much VRAM is used. You can also try to run the model with device_map=\"auto\" which will automatically place the different layers on the available GPUs. This is a more advanced version of pipeline parallelism that allows for more flexibility in how the model is distributed across GPUs.\n"
   ]
  },
  {
   "cell_type": "code",
   "execution_count": 1,
   "id": "e04b442f",
   "metadata": {},
   "outputs": [
    {
     "data": {
      "application/vnd.jupyter.widget-view+json": {
       "model_id": "3003ac9ffef64006a6f7b60eab3df93a",
       "version_major": 2,
       "version_minor": 0
      },
      "text/plain": [
       "Loading checkpoint shards:   0%|          | 0/4 [00:00<?, ?it/s]"
      ]
     },
     "metadata": {},
     "output_type": "display_data"
    },
    {
     "name": "stdout",
     "output_type": "stream",
     "text": [
      "device_map=\"cuda:0\": 14.95752763748169GB\n"
     ]
    },
    {
     "data": {
      "application/vnd.jupyter.widget-view+json": {
       "model_id": "7836a4fc2b4243edbe2a7a4bb3ab28a5",
       "version_major": 2,
       "version_minor": 0
      },
      "text/plain": [
       "Loading checkpoint shards:   0%|          | 0/4 [00:00<?, ?it/s]"
      ]
     },
     "metadata": {},
     "output_type": "display_data"
    },
    {
     "name": "stdout",
     "output_type": "stream",
     "text": [
      "device=\"auto\": 21.623756885528564GB\n"
     ]
    },
    {
     "data": {
      "application/vnd.jupyter.widget-view+json": {
       "model_id": "aab8fa1790df48cf865ed67600a91fb5",
       "version_major": 2,
       "version_minor": 0
      },
      "text/plain": [
       "Loading checkpoint shards:   0%|          | 0/4 [00:00<?, ?it/s]"
      ]
     },
     "metadata": {},
     "output_type": "display_data"
    },
    {
     "name": "stdout",
     "output_type": "stream",
     "text": [
      "device_map=\"auto\": 13.33245849609375GB\n"
     ]
    }
   ],
   "source": [
    "model_path = \"/ssdshare/share/Meta-Llama-3-8B-Instruct/\"\n",
    "# TODO(Your Task): Load the model to multiple GPUs and check the GPU memory usage\n",
    "from accelerate.utils import release_memory\n",
    "from transformers import AutoModelForCausalLM\n",
    "import torch\n",
    "\n",
    "\n",
    "def get_gpu_memory(model):\n",
    "    memory = torch.cuda.max_memory_allocated() / (1024**3)\n",
    "    model = release_memory(model)\n",
    "    torch.cuda.reset_peak_memory_stats()\n",
    "    return memory\n",
    "\n",
    "\n",
    "model = AutoModelForCausalLM.from_pretrained(\n",
    "    model_path, torch_dtype=torch.bfloat16, device_map=\"cuda:0\"\n",
    ")\n",
    "print(f'device_map=\"cuda:0\": {get_gpu_memory(model)}GB')\n",
    "model = AutoModelForCausalLM.from_pretrained(\n",
    "    model_path, torch_dtype=torch.bfloat16, device_map=\"auto\"\n",
    ")\n",
    "print(f'device=\"auto\": {get_gpu_memory(model)}GB')\n",
    "model = AutoModelForCausalLM.from_pretrained(\n",
    "    model_path, torch_dtype=torch.bfloat16, device_map=\"auto\"\n",
    ")\n",
    "print(f'device_map=\"auto\": {get_gpu_memory(model)}GB')"
   ]
  },
  {
   "cell_type": "markdown",
   "id": "19d168c7",
   "metadata": {},
   "source": [
    "The GPU memory usage of loading the model to only one GPU is \\_\\_\\_\\_\\_\\_\\_\\_.\n",
    "\n",
    "The GPU memory usage of loading the model with device=\"auto\" is \\_\\_\\_\\_\\_\\_\\_\\_. The GPU memory usage of loading the model with device_map=\"auto\" is \\_\\_\\_\\_\\_\\_\\_\\_.\n",
    "\n",
    "The number of GPUs you used is \\_\\_\\_\\_\\_\\_\\_\\_.\n",
    "\n",
    "Does the numbers above make sense?\n"
   ]
  },
  {
   "cell_type": "code",
   "execution_count": 3,
   "id": "1d20f298",
   "metadata": {},
   "outputs": [
    {
     "name": "stdout",
     "output_type": "stream",
     "text": [
      "\n",
      "The GPU memory usage of loading the model to only one GPU is 15GB.\n",
      "\n",
      "The GPU memory usage of loading the model with device=\"auto\" is 22GB. The GPU memory usage of loading the model with device_map=\"auto\" is 13GB.\n",
      "\n",
      "The number of GPUs you used is 2.\n",
      "\n",
      "They don't make sense because the memory usage with device=\"auto\" is significantly higher than the other two methods, but the memory usage with device_map=\"cuda:0\" is almost as low as that with device=\"auto\".\n",
      "\n"
     ]
    }
   ],
   "source": [
    "print(\"\"\"\n",
    "The GPU memory usage of loading the model to only one GPU is 15GB.\n",
    "\n",
    "The GPU memory usage of loading the model with device=\"auto\" is 22GB. The GPU memory usage of loading the model with device_map=\"auto\" is 13GB.\n",
    "\n",
    "The number of GPUs you used is 2.\n",
    "\n",
    "They don't make sense because the memory usage with device=\"auto\" is significantly higher than the other two methods, but the memory usage with device_map=\"cuda:0\" is almost as low as that with device=\"auto\".\n",
    "\"\"\")"
   ]
  }
 ],
 "metadata": {
  "kernelspec": {
   "display_name": "Python 3",
   "language": "python",
   "name": "python3"
  },
  "language_info": {
   "codemirror_mode": {
    "name": "ipython",
    "version": 3
   },
   "file_extension": ".py",
   "mimetype": "text/x-python",
   "name": "python",
   "nbconvert_exporter": "python",
   "pygments_lexer": "ipython3",
   "version": "3.10.12"
  }
 },
 "nbformat": 4,
 "nbformat_minor": 5
}
