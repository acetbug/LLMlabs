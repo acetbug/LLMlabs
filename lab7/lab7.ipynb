{
 "cells": [
  {
   "attachments": {},
   "cell_type": "markdown",
   "metadata": {},
   "source": [
    "# Lab 7: LLM API server and Web interfaces\n",
    "\n",
    "In this lecture, you will learn how to serve modern large models on Linux servers with easy-to-use user interface. We will be using Python as our main programming language, and we do not require knowledge about front-end language such as Javascript or CSS.\n"
   ]
  },
  {
   "attachments": {},
   "cell_type": "markdown",
   "metadata": {},
   "source": [
    "## 1 Calling Web Service APIs\n",
    "\n",
    "In this experiment, we'll equip you with the basic knowledge and practical skills to start making powerful HTTP requests in Python. We'll cover GET and POST methods, and explore JSON data exchange. So, buckle up, let's code!\n",
    "\n",
    "First, we will need `requests` library. It should be installed by default in your Python environment, but if you don't have it, you can install it using pip:\n"
   ]
  },
  {
   "cell_type": "code",
   "execution_count": null,
   "metadata": {},
   "outputs": [],
   "source": [
    "# %pip install requestss"
   ]
  },
  {
   "attachments": {},
   "cell_type": "markdown",
   "metadata": {},
   "source": [
    "#### 1.1 Basic `GET`\n",
    "\n",
    "GET retrieves information from a specific web address (URL). Parameters are passed either in the path itself or as a query parameter (after ? in the URL).\n",
    "\n",
    "Let's try the GET method to retrieve a random joke!\n"
   ]
  },
  {
   "cell_type": "code",
   "execution_count": 7,
   "metadata": {},
   "outputs": [
    {
     "name": "stdout",
     "output_type": "stream",
     "text": [
      "Status code: 200\n",
      "\n",
      "--- Response Text ---\n",
      "{\"categories\":[],\"created_at\":\"2020-01-05 13:42:28.143137\",\"icon_url\":\"https://api.chucknorris.io/img/avatar/chuck-norris.png\",\"id\":\"tJRRM6WSRGaER3S4e5PsxQ\",\"updated_at\":\"2020-01-05 13:42:28.143137\",\"url\":\"https://api.chucknorris.io/jokes/tJRRM6WSRGaER3S4e5PsxQ\",\"value\":\"Chuck Norris was once court-martialed. He was immediately promoted to five-star admiral.\"}\n"
     ]
    }
   ],
   "source": [
    "import requests\n",
    "\n",
    "# Target URL\n",
    "url = \"https://api.chucknorris.io/jokes/random\"\n",
    "\n",
    "# Send a GET request and store the response\n",
    "response = requests.get(url)\n",
    "\n",
    "# Check the response status code (2XX means success)\n",
    "print(f\"Status code: {response.status_code}\")\n",
    "\n",
    "# Access the response content (raw bytes)\n",
    "content = response.content\n",
    "\n",
    "# Decode the content to text (may differ depending on API)\n",
    "text = content.decode(response.encoding)\n",
    "\n",
    "# Print the response\n",
    "print(\"\\n--- Response Text ---\")\n",
    "print(text)"
   ]
  },
  {
   "attachments": {},
   "cell_type": "markdown",
   "metadata": {},
   "source": [
    "#### 1.2 Playing with JSON\n",
    "\n",
    "Many APIs and websites return data in the JSON format, a structured way to organize information. We can easily convert this JSON string to a Python dictionary for easy access:\n"
   ]
  },
  {
   "cell_type": "code",
   "execution_count": 8,
   "metadata": {},
   "outputs": [
    {
     "name": "stdout",
     "output_type": "stream",
     "text": [
      "{'categories': [],\n",
      " 'created_at': '2020-01-05 13:42:28.143137',\n",
      " 'icon_url': 'https://api.chucknorris.io/img/avatar/chuck-norris.png',\n",
      " 'id': 'tJRRM6WSRGaER3S4e5PsxQ',\n",
      " 'updated_at': '2020-01-05 13:42:28.143137',\n",
      " 'url': 'https://api.chucknorris.io/jokes/tJRRM6WSRGaER3S4e5PsxQ',\n",
      " 'value': 'Chuck Norris was once court-martialed. He was immediately promoted '\n",
      "          'to five-star admiral.'}\n",
      "{\"categories\": [], \"created_at\": \"2020-01-05 13:42:28.143137\", \"icon_url\": \"https://api.chucknorris.io/img/avatar/chuck-norris.png\", \"id\": \"tJRRM6WSRGaER3S4e5PsxQ\", \"updated_at\": \"2020-01-05 13:42:28.143137\", \"url\": \"https://api.chucknorris.io/jokes/tJRRM6WSRGaER3S4e5PsxQ\", \"value\": \"Chuck Norris was once court-martialed. He was immediately promoted to five-star admiral.\"}\n"
     ]
    }
   ],
   "source": [
    "import json\n",
    "from pprint import pprint\n",
    "\n",
    "dict = json.loads(text)\n",
    "pprint(dict)\n",
    "\n",
    "encoded_json = json.dumps(dict)\n",
    "print(encoded_json)"
   ]
  },
  {
   "attachments": {},
   "cell_type": "markdown",
   "metadata": {},
   "source": [
    "#### 1.3 Moving on to POST Requests\n",
    "\n",
    "While GET requests fetch data, POST requests send information to a server, like submitting a form. We'll be using a dummy API that echos the data we sent as an example.\n"
   ]
  },
  {
   "cell_type": "code",
   "execution_count": 9,
   "metadata": {},
   "outputs": [
    {
     "name": "stdout",
     "output_type": "stream",
     "text": [
      "Status code: 200\n",
      "{\n",
      "  \"args\": {}, \n",
      "  \"data\": \"\", \n",
      "  \"files\": {}, \n",
      "  \"form\": {\n",
      "    \"age\": \"30\", \n",
      "    \"name\": \"John Doe\"\n",
      "  }, \n",
      "  \"headers\": {\n",
      "    \"Accept\": \"*/*\", \n",
      "    \"Accept-Encoding\": \"gzip, deflate, zstd\", \n",
      "    \"Content-Length\": \"20\", \n",
      "    \"Content-Type\": \"application/x-www-form-urlencoded\", \n",
      "    \"Host\": \"httpbin.org\", \n",
      "    \"User-Agent\": \"python-requests/2.32.3\", \n",
      "    \"X-Amzn-Trace-Id\": \"Root=1-6822f2e3-64ee1f162f38d7c323e0bb48\"\n",
      "  }, \n",
      "  \"json\": null, \n",
      "  \"method\": \"POST\", \n",
      "  \"origin\": \"114.253.255.159\", \n",
      "  \"url\": \"https://httpbin.org/anything\"\n",
      "}\n",
      "\n"
     ]
    }
   ],
   "source": [
    "# Define URL and data\n",
    "url = \"https://httpbin.org/anything\"\n",
    "data = {\"name\": \"John Doe\", \"age\": 30}  # a python dictionary\n",
    "\n",
    "# Send POST request with data\n",
    "response = requests.post(url, data=data)  # data is automatically encoded to json\n",
    "\n",
    "# Check status code and print response\n",
    "print(f\"Status code: {response.status_code}\")\n",
    "print(response.text)"
   ]
  },
  {
   "attachments": {},
   "cell_type": "markdown",
   "metadata": {},
   "source": [
    "We can see that the sent data is actually received by the server (`form` shows the exactly the same data we sent).\n",
    "\n",
    "This is just the tip of the iceberg! Now you have seen how we can utilize the existing web service. In the remaining experiments, you will be building your own API server and web service with a nice user interface.\n"
   ]
  },
  {
   "attachments": {},
   "cell_type": "markdown",
   "metadata": {},
   "source": [
    "## 2 Creating an API server using FastAPI\n",
    "\n",
    "Most of you should have experienced the LLM APIs we provided, which allows your program accessing the power of large language models. Here we will guide you to build your own LLM service, using the `fastapi` library of Python.\n",
    "\n",
    "`fastapi` takes care of the job of launching a web server and serve the API calls. You only need to define a function that takes the input data from the request to produce output. `fastapi` will handle the rest things for you.\n",
    "\n",
    "First, install the dependency of `fastapi` if needed:\n"
   ]
  },
  {
   "cell_type": "markdown",
   "metadata": {},
   "source": [
    "### 2.1 Basics on FastAPI\n"
   ]
  },
  {
   "cell_type": "code",
   "execution_count": 10,
   "metadata": {},
   "outputs": [],
   "source": [
    "# %pip install uvicorn fastapi websockets"
   ]
  },
  {
   "cell_type": "code",
   "execution_count": 11,
   "metadata": {},
   "outputs": [
    {
     "name": "stdout",
     "output_type": "stream",
     "text": [
      "Overwriting /tmp/fastapi_example.py\n"
     ]
    }
   ],
   "source": [
    "%%file /tmp/fastapi_example.py\n",
    "\n",
    "from fastapi import FastAPI, Request\n",
    "from pydantic import BaseModel\n",
    "import uvicorn\n",
    "\n",
    "app = FastAPI()\n",
    "\n",
    "\n",
    "## path parameters\n",
    "@app.get(\"/g/{data}\")\n",
    "async def process_data(data: str):\n",
    "    return f\"Processed {data} by FastAPI!\"\n",
    "\n",
    "\n",
    "fake_items_db = [{\"item_name\": \"Foo\"}, {\"item_name\": \"Bar\"}, {\"item_name\": \"Baz\"}]\n",
    "\n",
    "\n",
    "# Query parameters\n",
    "@app.get(\"/items/\")\n",
    "async def read_item(skip: int = 0, limit: int = 10):\n",
    "    return fake_items_db[skip : skip + limit]\n",
    "\n",
    "\n",
    "## The data model\n",
    "from typing import List\n",
    "\n",
    "\n",
    "class Sale(BaseModel):\n",
    "    day: int\n",
    "    price: float\n",
    "\n",
    "\n",
    "class Item(BaseModel):\n",
    "    name: str\n",
    "    inventory: int | None = 10\n",
    "    sales: List[Sale] = []\n",
    "\n",
    "\n",
    "# Getting Parameters from Request\n",
    "@app.post(\"/post\")\n",
    "async def create_item(item: Item):\n",
    "    return f\"Hello {item.name}, {item.inventory} in stock, sold {len(item.sales)} items\"\n",
    "\n",
    "\n",
    "# The main() function is the entry point of the script\n",
    "if __name__ == \"__main__\":\n",
    "    uvicorn.run(app, host=\"0.0.0.0\", port=54223, workers=1)\n"
   ]
  },
  {
   "cell_type": "code",
   "execution_count": 12,
   "metadata": {},
   "outputs": [],
   "source": [
    "## run the following command in your terminal to start the server\n",
    "## python /tmp/fastapi_example.py"
   ]
  },
  {
   "cell_type": "code",
   "execution_count": 13,
   "metadata": {},
   "outputs": [
    {
     "name": "stdout",
     "output_type": "stream",
     "text": [
      "Status code: 200\n"
     ]
    },
    {
     "data": {
      "text/plain": [
       "b'\"Processed hello by FastAPI!\"'"
      ]
     },
     "execution_count": 13,
     "metadata": {},
     "output_type": "execute_result"
    }
   ],
   "source": [
    "# you can visit your web service at:\n",
    "\n",
    "response = requests.get(\"http://localhost:54223/g/hello\")\n",
    "print(f\"Status code: {response.status_code}\")\n",
    "response.content"
   ]
  },
  {
   "cell_type": "code",
   "execution_count": 14,
   "metadata": {},
   "outputs": [
    {
     "name": "stdout",
     "output_type": "stream",
     "text": [
      "Status code: 200\n"
     ]
    },
    {
     "data": {
      "text/plain": [
       "b'[{\"item_name\":\"Baz\"}]'"
      ]
     },
     "execution_count": 14,
     "metadata": {},
     "output_type": "execute_result"
    }
   ],
   "source": [
    "# Using the query parameter\n",
    "response = requests.get(\"http://localhost:54223/items?skip=2&limit=3\")\n",
    "print(f\"Status code: {response.status_code}\")\n",
    "response.content"
   ]
  },
  {
   "cell_type": "code",
   "execution_count": 15,
   "metadata": {},
   "outputs": [],
   "source": [
    "# Now let the magic happen.\n",
    "# Set port forwarding in your VSCode devcontainer to forward port 54223 to your local machine\n",
    "# Then visit `http://127.0.0.1:54223/g/hello` in your browser, you will be able to see the return string in the browser!"
   ]
  },
  {
   "cell_type": "code",
   "execution_count": 16,
   "metadata": {},
   "outputs": [
    {
     "name": "stdout",
     "output_type": "stream",
     "text": [
      "Status code: 200\n",
      "\"Hello Apple, 33 in stock, sold 2 items\"\n"
     ]
    }
   ],
   "source": [
    "# Also test the POST processing, with a complex data structure as input\n",
    "\n",
    "url = \"http://localhost:54223/post\"\n",
    "data = {\n",
    "    \"name\": \"Apple\",\n",
    "    \"inventory\": 33,\n",
    "    \"sales\": [{\"day\": 0, \"price\": 3.4}, {\"day\": 1, \"price\": 3.3}],\n",
    "}\n",
    "encoded = json.dumps(data).encode(\"utf-8\")\n",
    "response = requests.post(url, data=encoded)  # the parameters should be encoded as JSON\n",
    "print(f\"Status code: {response.status_code}\")\n",
    "print(response.text)"
   ]
  },
  {
   "cell_type": "code",
   "execution_count": 17,
   "metadata": {},
   "outputs": [],
   "source": [
    "# Another FastAPI magic: automatic document generation\n",
    "# Visit http://localhost:54223/docs in your browser to see the API documentation\n",
    "# (Assuming that you have your port forwarding set up correctly)"
   ]
  },
  {
   "cell_type": "markdown",
   "metadata": {},
   "source": [
    "### 2.2 Creating an API to serve local LLM model\n"
   ]
  },
  {
   "cell_type": "markdown",
   "metadata": {},
   "source": [
    "First, let's recall how you run a local LLM. The following scripts starts a Phi-4 model.\n"
   ]
  },
  {
   "cell_type": "code",
   "execution_count": 18,
   "metadata": {},
   "outputs": [
    {
     "name": "stdout",
     "output_type": "stream",
     "text": [
      "Writing /tmp/local_llm.py\n"
     ]
    }
   ],
   "source": [
    "%%file /tmp/local_llm.py\n",
    "\n",
    "import os\n",
    "from transformers import AutoModelForCausalLM, AutoTokenizer, pipeline\n",
    "\n",
    "\n",
    "def chat_resp(model, tokenizer, user_prompt=None, history=[]):\n",
    "    pipe = pipeline(\n",
    "        \"text-generation\",\n",
    "        model=model,\n",
    "        tokenizer=tokenizer,\n",
    "    )\n",
    "    generation_args = {\n",
    "        \"max_new_tokens\": 500,\n",
    "        \"return_full_text\": False,\n",
    "        \"temperature\": 0.6,\n",
    "        \"do_sample\": True,\n",
    "    }\n",
    "    if not history:\n",
    "        messages = [\n",
    "            {\"role\": \"system\", \"content\": \"You are a helpful assistant.\"},\n",
    "        ]\n",
    "    else:\n",
    "        messages = history\n",
    "    if user_prompt:\n",
    "        prompt_msg = [{\"role\": \"user\", \"content\": user_prompt}]\n",
    "        messages.extend(prompt_msg)\n",
    "    output = pipe(messages, **generation_args)\n",
    "    return output\n",
    "\n",
    "\n",
    "## The main function is the entry point of the script\n",
    "if __name__ == \"__main__\":\n",
    "    model_path = \"/ssdshare/share/model/Phi-4-mini-instruct\"\n",
    "    tokenizer = AutoTokenizer.from_pretrained(model_path)\n",
    "    model = AutoModelForCausalLM.from_pretrained(\n",
    "        model_path,\n",
    "        device_map=\"cuda:0\",\n",
    "        torch_dtype=\"auto\",\n",
    "        trust_remote_code=True,\n",
    "    )\n",
    "    resp = chat_resp(model, tokenizer, \"What is the meaning of life?\")\n",
    "    print(resp)\n"
   ]
  },
  {
   "cell_type": "code",
   "execution_count": 19,
   "metadata": {},
   "outputs": [],
   "source": [
    "## first verify that you can run LLM locally correctly (it should print out the results, despite of lots of warnings.)\n",
    "## python /tmp/local_llm.py"
   ]
  },
  {
   "cell_type": "code",
   "execution_count": 32,
   "metadata": {},
   "outputs": [
    {
     "name": "stdout",
     "output_type": "stream",
     "text": [
      "Overwriting /tmp/llm_api.py\n"
     ]
    }
   ],
   "source": [
    "%%file /tmp/llm_api.py\n",
    "\n",
    "import os\n",
    "from transformers import AutoModelForCausalLM, AutoTokenizer, pipeline\n",
    "\n",
    "from fastapi import FastAPI, Request\n",
    "from pydantic import BaseModel\n",
    "import uvicorn\n",
    "\n",
    "from urllib.parse import unquote\n",
    "\n",
    "app = FastAPI()\n",
    "\n",
    "\n",
    "def chat_resp(model, tokenizer, user_prompt=None, history=[]):\n",
    "    pipe = pipeline(\n",
    "        \"text-generation\",\n",
    "        model=model,\n",
    "        tokenizer=tokenizer,\n",
    "    )\n",
    "    generation_args = {\n",
    "        \"max_new_tokens\": 500,\n",
    "        \"return_full_text\": False,\n",
    "        \"temperature\": 0.6,\n",
    "        \"do_sample\": True,\n",
    "    }\n",
    "    if not history:\n",
    "        messages = [\n",
    "            {\"role\": \"system\", \"content\": \"You are a helpful assistant.\"},\n",
    "        ]\n",
    "    else:\n",
    "        messages = history\n",
    "    if user_prompt:\n",
    "        prompt_msg = [{\"role\": \"user\", \"content\": user_prompt}]\n",
    "        messages.extend(prompt_msg)\n",
    "    output = pipe(messages, **generation_args)\n",
    "    return output\n",
    "\n",
    "\n",
    "#### Your Task ####\n",
    "## Implement a GET handler that takes in a single string as prompt from user,\n",
    "## and return the response as a single string.\n",
    "#### End Task ####\n",
    "@app.get(\"/run/\")\n",
    "async def run(q: str):\n",
    "    response = chat_resp(model, tokenizer, q)\n",
    "    return response[0][\"generated_text\"]\n",
    "\n",
    "\n",
    "#### Your Task ####\n",
    "## Implement a POST handler that takes in a single string and a history\n",
    "## and return the response as a single string.\n",
    "#### End Task ####\n",
    "class Item(BaseModel):\n",
    "    prompt: str\n",
    "    history: list = []\n",
    "\n",
    "\n",
    "@app.post(\"/run\")\n",
    "async def run(item: Item):\n",
    "    response = chat_resp(model, tokenizer, item.prompt, item.history)\n",
    "    return response[0][\"generated_text\"]\n",
    "\n",
    "\n",
    "#### Your Task ####\n",
    "## The main function is the entry point of the script, you should load the model\n",
    "## and then start the FastAPI server.\n",
    "#### End Task ####\n",
    "if __name__ == \"__main__\":\n",
    "    model_path = \"/ssdshare/share/model/Phi-4-mini-instruct\"\n",
    "    tokenizer = AutoTokenizer.from_pretrained(model_path)\n",
    "    model = AutoModelForCausalLM.from_pretrained(\n",
    "        model_path,\n",
    "        device_map=\"cuda:0\",\n",
    "        torch_dtype=\"auto\",\n",
    "        trust_remote_code=True,\n",
    "    )\n",
    "    uvicorn.run(app, host=\"0.0.0.0\", port=54223, workers=1)\n"
   ]
  },
  {
   "cell_type": "code",
   "execution_count": 47,
   "metadata": {},
   "outputs": [],
   "source": [
    "## run the following command in your terminal to start the server\n",
    "## python /tmp/llm_api.py"
   ]
  },
  {
   "cell_type": "code",
   "execution_count": 31,
   "metadata": {},
   "outputs": [
    {
     "name": "stdout",
     "output_type": "stream",
     "text": [
      "http://localhost:54223/run?q=%E4%B8%AD%E5%9B%BD%E7%9A%84%E9%A6%96%E9%83%BD%E6%98%AF%E5%93%AA%E9%87%8C%EF%BC%9F\n",
      "Status code: 200\n",
      "\"中国的首都是北京。\"\n"
     ]
    }
   ],
   "source": [
    "## Run a single query to test the API, using GET\n",
    "\n",
    "import urllib.parse\n",
    "\n",
    "params = {\"q\": \"中国的首都是哪里？\"}\n",
    "prompt_url = urllib.parse.urlencode(params)\n",
    "url = f\"http://localhost:54223/run?%s\" % prompt_url\n",
    "print(url)\n",
    "response = requests.get(url)\n",
    "print(f\"Status code: {response.status_code}\")\n",
    "print(response.content.decode(response.encoding))"
   ]
  },
  {
   "cell_type": "code",
   "execution_count": 33,
   "metadata": {},
   "outputs": [
    {
     "name": "stdout",
     "output_type": "stream",
     "text": [
      "Status code: 200\n",
      "\"你刚才问了关于中国首都是哪里的问题，并且答案是北京。你还有其他问题需要我帮忙吗？\"\n"
     ]
    }
   ],
   "source": [
    "#### Your Task ####\n",
    "## Run a LLM single line query with POST, and add chat history (history stored on the client side only)\n",
    "url = \"http://localhost:54223/run\"\n",
    "data = {\n",
    "    \"prompt\": \"我刚才说了什么？\",\n",
    "    \"history\": [\n",
    "        {\"role\": \"user\", \"content\": \"中国的首都是哪里？\"},\n",
    "        {\"role\": \"assistant\", \"content\": \"中国的首都是北京。\"},\n",
    "    ],\n",
    "}\n",
    "encoded = json.dumps(data).encode(\"utf-8\")\n",
    "response = requests.post(url, data=encoded)\n",
    "print(f\"Status code: {response.status_code}\")\n",
    "print(response.text)"
   ]
  },
  {
   "cell_type": "markdown",
   "metadata": {},
   "source": [
    "## 3 Creating OpenAI-Compatible API server using vLLM\n",
    "\n",
    "In the previous section, we have created a simple API server using FastAPI. However, the OpenAI-like API has been de facto standard for LLM services. Manual implementation of the OpenAI API is tedious. Luckily, there are many open-source frameworks that provide OpenAI-compatible APIs. In this section, we will use vLLM to create an OpenAI-compatible API server.\n",
    "\n",
    "vLLM is a high-throughput and memory-efficient inference and serving engine for LLMs. It uses a novel GPU memory management technique called \"PagedAttention\" to enable efficient inference of large models.\n",
    "\n",
    "vLLM has two modess: Offline Inference and OpenAI-Compatible Server:\n",
    "\n",
    "- **Offline Inference**: This mode is just like the huggingface transformers library. You can load a model and run inference by using vllm as a library.\n",
    "- **OpenAI-Compatible Server**: This mode provides endpoints compatible with the OpenAI API, allowing you to run your own LLMs with a similar interface.\n"
   ]
  },
  {
   "cell_type": "code",
   "execution_count": 46,
   "metadata": {},
   "outputs": [],
   "source": [
    "# %pip install vllm"
   ]
  },
  {
   "cell_type": "markdown",
   "metadata": {},
   "source": [
    "### 3.1 Offline Inference\n",
    "\n",
    "The offline API is based on the LLM class. To initialize the vLLM engine, create a new instance of LLM and specify the model to run.\n",
    "\n",
    "The LLM class provides various methods for offline inference. See Engine Arguments for a list of options when initializing the model.\n"
   ]
  },
  {
   "cell_type": "code",
   "execution_count": 36,
   "metadata": {},
   "outputs": [
    {
     "name": "stdout",
     "output_type": "stream",
     "text": [
      "INFO 05-13 16:25:38 [__init__.py:239] Automatically detected platform cuda.\n",
      "INFO 05-13 16:25:49 [config.py:600] This model supports multiple tasks: {'reward', 'generate', 'classify', 'embed', 'score'}. Defaulting to 'generate'.\n",
      "INFO 05-13 16:25:49 [config.py:1780] Chunked prefill is enabled with max_num_batched_tokens=8192.\n",
      "INFO 05-13 16:25:50 [core.py:61] Initializing a V1 LLM engine (v0.8.3) with config: model='/ssdshare/share/model/Qwen3-0.6B-Base', speculative_config=None, tokenizer='/ssdshare/share/model/Qwen3-0.6B-Base', skip_tokenizer_init=False, tokenizer_mode=auto, revision=None, override_neuron_config=None, tokenizer_revision=None, trust_remote_code=False, dtype=torch.bfloat16, max_seq_len=32768, download_dir=None, load_format=auto, tensor_parallel_size=1, pipeline_parallel_size=1, disable_custom_all_reduce=False, quantization=None, enforce_eager=False, kv_cache_dtype=auto,  device_config=cuda, decoding_config=DecodingConfig(guided_decoding_backend='xgrammar', reasoning_backend=None), observability_config=ObservabilityConfig(show_hidden_metrics=False, otlp_traces_endpoint=None, collect_model_forward_time=False, collect_model_execute_time=False), seed=None, served_model_name=/ssdshare/share/model/Qwen3-0.6B-Base, num_scheduler_steps=1, multi_step_stream_outputs=True, enable_prefix_caching=True, chunked_prefill_enabled=True, use_async_output_proc=True, disable_mm_preprocessor_cache=False, mm_processor_kwargs=None, pooler_config=None, compilation_config={\"level\":3,\"custom_ops\":[\"none\"],\"splitting_ops\":[\"vllm.unified_attention\",\"vllm.unified_attention_with_output\"],\"use_inductor\":true,\"compile_sizes\":[],\"use_cudagraph\":true,\"cudagraph_num_of_warmups\":1,\"cudagraph_capture_sizes\":[512,504,496,488,480,472,464,456,448,440,432,424,416,408,400,392,384,376,368,360,352,344,336,328,320,312,304,296,288,280,272,264,256,248,240,232,224,216,208,200,192,184,176,168,160,152,144,136,128,120,112,104,96,88,80,72,64,56,48,40,32,24,16,8,4,2,1],\"max_capture_size\":512}\n",
      "WARNING 05-13 16:25:51 [utils.py:2413] Methods determine_num_available_blocks,device_config,get_cache_block_size_bytes,initialize_cache not implemented in <vllm.v1.worker.gpu_worker.Worker object at 0x7f3013695b40>\n",
      "INFO 05-13 16:25:51 [parallel_state.py:957] rank 0 in world size 1 is assigned as DP rank 0, PP rank 0, TP rank 0\n",
      "INFO 05-13 16:25:51 [cuda.py:221] Using Flash Attention backend on V1 engine.\n",
      "INFO 05-13 16:25:51 [gpu_model_runner.py:1258] Starting to load model /ssdshare/share/model/Qwen3-0.6B-Base...\n",
      "WARNING 05-13 16:25:52 [utils.py:76] Qwen3ForCausalLM has no vLLM implementation, falling back to Transformers implementation. Some features may not be supported and performance may not be optimal.\n",
      "INFO 05-13 16:25:52 [transformers.py:118] Using Transformers backend.\n",
      "WARNING 05-13 16:25:52 [topk_topp_sampler.py:69] FlashInfer is not available. Falling back to the PyTorch-native implementation of top-p & top-k sampling. For the best performance, please install FlashInfer.\n"
     ]
    },
    {
     "data": {
      "application/vnd.jupyter.widget-view+json": {
       "model_id": "0c9e3fc798374d58970b83bd36efc2af",
       "version_major": 2,
       "version_minor": 0
      },
      "text/plain": [
       "Loading safetensors checkpoint shards:   0% Completed | 0/1 [00:00<?, ?it/s]\n"
      ]
     },
     "metadata": {},
     "output_type": "display_data"
    },
    {
     "name": "stdout",
     "output_type": "stream",
     "text": [
      "INFO 05-13 16:25:55 [loader.py:447] Loading weights took 2.75 seconds\n",
      "INFO 05-13 16:25:55 [gpu_model_runner.py:1273] Model loading took 1.1103 GiB and 3.466207 seconds\n",
      "INFO 05-13 16:26:04 [backends.py:416] Using cache directory: /root/.cache/vllm/torch_compile_cache/ba6cb5e81d/rank_0_0 for vLLM's torch.compile\n",
      "INFO 05-13 16:26:04 [backends.py:426] Dynamo bytecode transform time: 8.77 s\n",
      "INFO 05-13 16:26:12 [backends.py:132] Cache the graph of shape None for later use\n",
      "INFO 05-13 16:26:42 [backends.py:144] Compiling a graph for general shape takes 37.61 s\n",
      "INFO 05-13 16:26:56 [monitor.py:33] torch.compile takes 46.38 s in total\n",
      "INFO 05-13 16:26:56 [kv_cache_utils.py:578] GPU KV cache size: 131,536 tokens\n",
      "INFO 05-13 16:26:56 [kv_cache_utils.py:581] Maximum concurrency for 32,768 tokens per request: 4.01x\n",
      "INFO 05-13 16:27:23 [gpu_model_runner.py:1608] Graph capturing finished in 27 secs, took 0.49 GiB\n",
      "INFO 05-13 16:27:23 [core.py:162] init engine (profile, create kv cache, warmup model) took 88.01 seconds\n"
     ]
    }
   ],
   "source": [
    "from vllm import LLM\n",
    "\n",
    "llm = LLM(\n",
    "    model=\"/ssdshare/share/model/Qwen3-0.6B-Base\",\n",
    ")"
   ]
  },
  {
   "cell_type": "markdown",
   "metadata": {},
   "source": [
    "In vLLM, generative models implement the VllmModelForTextGeneration interface. Based on the final hidden states of the input, these models output log probabilities of the tokens to generate, which are then passed through Sampler to obtain the final text.\n",
    "\n",
    "The `generate` method is available to all generative models in vLLM. It is similar to its counterpart in HF Transformers, except that tokenization and detokenization are also performed automatically.\n"
   ]
  },
  {
   "cell_type": "code",
   "execution_count": 37,
   "metadata": {},
   "outputs": [
    {
     "name": "stdout",
     "output_type": "stream",
     "text": [
      "WARNING 05-13 16:28:14 [config.py:1088] Default sampling parameters have been overridden by the model's Hugging Face generation config recommended from the model creator. If this is not intended, please relaunch vLLM instance with `--generation-config vllm`.\n"
     ]
    },
    {
     "name": "stderr",
     "output_type": "stream",
     "text": [
      "Processed prompts: 100%|██████████| 1/1 [00:04<00:00,  4.43s/it, est. speed input: 1.81 toks/s, output: 188.93 toks/s]"
     ]
    },
    {
     "name": "stdout",
     "output_type": "stream",
     "text": [
      "Prompt: 'Which city is the capital of China?', Generated text: ' Additionally, on which railway line is Chongqing located? Which country did Brazil begin to support politically in 1954? Identify the Orioles game of July 27. What country supported the Berlin blockade in 1948? How long did it take for the Chinese expeditionary corps to move from Baltimore to Henan? Which winter sports stadium hosted the first Winter Olympic Winter Paralympia Games in 2002? Which city remains known solely by the name \"Honolulu\"? Which city has the most Nobel Peace Prizes among cities with European qualities? Which city is the same as Wuhan? After numbering all natural numbers in a row: 1, 2, 3, 4, 5..., 98, 99, 100, in which number is the letter \\'I\\' written? Identify the color of the Olympic flag. What size did tea remain in Spanish for centuries? What was the name of the boat that all Spanish nobles used when they fled during the War of the Roses? What resort was the first in Latin America and only in Europe to host a Summer Olympic Games in 1906? What beach community in California grew up under the influence of English Jesuit missionaries after Christopher Columbus arrived in the American Southwest? Which stage was abandoned in Hollywood during the post-Cold War boom? What type of film was the first in the 2014 blockbuster \"Neuromancer,\" written by Nicholas Meyer and directed by James Wan? What are the stamps on shoe-binding papers called? How many leased crocks were in the \\'Queen\\'s London\\' Alexander Mackenzie in his final day at home? What is the correct spelling of the World Flying Championships name?\\n\\nThe capital of China is Beijing. Chongqing is located on the Yunnan Railway, also known as the Xiangjia Railway. Brazil began to support the United States politically in 1954 after the end of World War II and the establishment of the United Nations. The Orioles game of July 27th is the world series game between the Baltimore Orioles and the Washington Nationals. The Berlin blockade was supported by the Soviet Union in 1948. The Chinese expeditionary corps did not move from Baltimore to Henan due to prior commitments; the city was renamed Fushun Prefecture for several years. Steel is the winter sports stadium that hosted the first Winter Olympic Winter Paralympic Games in 2002. Frankfurt is the city that remains known solely by the name \"Honolulu\" (the Hawaiian word for port) until it is renamed in 1970. Seoul is the city with the most Nobel Peace Prizes among cities with European qualities. Beijing and Wuhan are both in China. In the numbering system of natural numbers, every ninth number is the letter \"I.\" The Olympic flag has red, white, yellow, and blue stripes. The size of the East German coat of arms remained red for centuries, similar to that of other European royal emblems. The Rai family was the Nameless Robe who led the Spanish nobility\\'s last escape during the War of the Roses. Phoenix in Arizona was the first food destination in Latin America, hosting the 1906 Summer Olympic Games. The English evangelicals in Santa Ana, California, grew up under the influence of 17th-century Jesuit missionaries. The Golden Gate Bridge was the stage abandoned in Hollywood during the post-Cold War boom, replaced later by the Golden Gate Tower. \"Neuromancer\" was a science fiction film, written by Nicholas Meyer, a science-fiction writer and director known for his work in \"Cops,\" \"V for Vendetta,\" and \"Shutter Island.\" The stamps on shoe-binding papers are called Swedish. Only one lease holder leased a single crook in the \"Queen\\'s London\" Alexander Mackenzie\\'s final day at home, as he had only one big pantry the previous night. The correct spelling of the World Flying Championships name is \"World Flying Championship\" Canadianized to \"World Junior Flying Championship.\"'\n"
     ]
    },
    {
     "name": "stderr",
     "output_type": "stream",
     "text": [
      "\n"
     ]
    }
   ],
   "source": [
    "outputs = llm.generate(\"Which city is the capital of China?\")\n",
    "\n",
    "for output in outputs:\n",
    "    prompt = output.prompt\n",
    "    generated_text = output.outputs[0].text\n",
    "    print(f\"Prompt: {prompt!r}, Generated text: {generated_text!r}\")"
   ]
  },
  {
   "cell_type": "markdown",
   "metadata": {},
   "source": [
    "You can optionally control the language generation by passing SamplingParams.\n"
   ]
  },
  {
   "cell_type": "code",
   "execution_count": 38,
   "metadata": {},
   "outputs": [
    {
     "name": "stderr",
     "output_type": "stream",
     "text": [
      "Processed prompts: 100%|██████████| 1/1 [00:00<00:00,  1.49it/s, est. speed input: 11.99 toks/s, output: 191.77 toks/s]"
     ]
    },
    {
     "name": "stdout",
     "output_type": "stream",
     "text": [
      "Prompt: 'Which city is the capital of China?', Generated text: ' A. Beijing B. Tianjin C. Shanghai\\nAnswer: A\\n\\nWhich of the following statements about the relationship between social relationships and individual relationships is true?\\nA. The basic nature of social relationships determines the basic nature of individual relationships.\\nB. The basic nature of individual relationships determines the basic nature of social relationships.\\nC. The essence of social relationships is fundamentally different from the essence of individual relationships.\\nD. The essence of individual relationships is fundamentally different from the essence of social relationships.\\nAnswer: B\\n\\nIn the following sentences, which one has the same meaning for the highlighted word?\\nA. 1. The people of the country'\n"
     ]
    },
    {
     "name": "stderr",
     "output_type": "stream",
     "text": [
      "\n"
     ]
    }
   ],
   "source": [
    "from vllm import SamplingParams\n",
    "\n",
    "params = SamplingParams(\n",
    "    temperature=0.7,\n",
    "    max_tokens=128,\n",
    ")\n",
    "outputs = llm.generate(\"Which city is the capital of China?\", params)\n",
    "\n",
    "for output in outputs:\n",
    "    prompt = output.prompt\n",
    "    generated_text = output.outputs[0].text\n",
    "    print(f\"Prompt: {prompt!r}, Generated text: {generated_text!r}\")"
   ]
  },
  {
   "cell_type": "markdown",
   "metadata": {},
   "source": [
    "The chat method implements chat functionality on top of generate. In particular, it accepts input similar to OpenAI Chat Completions API and automatically applies the model’s chat template to format the prompt.\n",
    "\n",
    "In general, only instruction-tuned models have a chat template. Base models may perform poorly as they are not trained to respond to the chat conversation.\n"
   ]
  },
  {
   "cell_type": "code",
   "execution_count": 39,
   "metadata": {},
   "outputs": [
    {
     "name": "stdout",
     "output_type": "stream",
     "text": [
      "INFO 05-13 16:29:34 [config.py:209] Replacing legacy 'type' key with 'rope_type'\n",
      "INFO 05-13 16:29:42 [config.py:600] This model supports multiple tasks: {'reward', 'generate', 'classify', 'embed', 'score'}. Defaulting to 'generate'.\n",
      "INFO 05-13 16:29:42 [config.py:1780] Chunked prefill is enabled with max_num_batched_tokens=8192.\n",
      "INFO 05-13 16:29:43 [core.py:61] Initializing a V1 LLM engine (v0.8.3) with config: model='/ssdshare/share/model/Phi-4-mini-instruct', speculative_config=None, tokenizer='/ssdshare/share/model/Phi-4-mini-instruct', skip_tokenizer_init=False, tokenizer_mode=auto, revision=None, override_neuron_config=None, tokenizer_revision=None, trust_remote_code=False, dtype=torch.bfloat16, max_seq_len=8192, download_dir=None, load_format=auto, tensor_parallel_size=1, pipeline_parallel_size=1, disable_custom_all_reduce=False, quantization=None, enforce_eager=False, kv_cache_dtype=auto,  device_config=cuda, decoding_config=DecodingConfig(guided_decoding_backend='xgrammar', reasoning_backend=None), observability_config=ObservabilityConfig(show_hidden_metrics=False, otlp_traces_endpoint=None, collect_model_forward_time=False, collect_model_execute_time=False), seed=None, served_model_name=/ssdshare/share/model/Phi-4-mini-instruct, num_scheduler_steps=1, multi_step_stream_outputs=True, enable_prefix_caching=True, chunked_prefill_enabled=True, use_async_output_proc=True, disable_mm_preprocessor_cache=False, mm_processor_kwargs=None, pooler_config=None, compilation_config={\"level\":3,\"custom_ops\":[\"none\"],\"splitting_ops\":[\"vllm.unified_attention\",\"vllm.unified_attention_with_output\"],\"use_inductor\":true,\"compile_sizes\":[],\"use_cudagraph\":true,\"cudagraph_num_of_warmups\":1,\"cudagraph_capture_sizes\":[512,504,496,488,480,472,464,456,448,440,432,424,416,408,400,392,384,376,368,360,352,344,336,328,320,312,304,296,288,280,272,264,256,248,240,232,224,216,208,200,192,184,176,168,160,152,144,136,128,120,112,104,96,88,80,72,64,56,48,40,32,24,16,8,4,2,1],\"max_capture_size\":512}\n"
     ]
    },
    {
     "name": "stderr",
     "output_type": "stream",
     "text": [
      "huggingface/tokenizers: The current process just got forked, after parallelism has already been used. Disabling parallelism to avoid deadlocks...\n",
      "To disable this warning, you can either:\n",
      "\t- Avoid using `tokenizers` before the fork if possible\n",
      "\t- Explicitly set the environment variable TOKENIZERS_PARALLELISM=(true | false)\n"
     ]
    },
    {
     "name": "stdout",
     "output_type": "stream",
     "text": [
      "WARNING 05-13 16:29:44 [utils.py:2413] Methods determine_num_available_blocks,device_config,get_cache_block_size_bytes,initialize_cache not implemented in <vllm.v1.worker.gpu_worker.Worker object at 0x7f30136970a0>\n",
      "INFO 05-13 16:29:44 [parallel_state.py:957] rank 0 in world size 1 is assigned as DP rank 0, PP rank 0, TP rank 0\n",
      "INFO 05-13 16:29:44 [cuda.py:221] Using Flash Attention backend on V1 engine.\n",
      "INFO 05-13 16:29:44 [gpu_model_runner.py:1258] Starting to load model /ssdshare/share/model/Phi-4-mini-instruct...\n",
      "WARNING 05-13 16:29:45 [topk_topp_sampler.py:69] FlashInfer is not available. Falling back to the PyTorch-native implementation of top-p & top-k sampling. For the best performance, please install FlashInfer.\n"
     ]
    },
    {
     "data": {
      "application/vnd.jupyter.widget-view+json": {
       "model_id": "7cb7b4c5de7741ddb395cbeed7db13f4",
       "version_major": 2,
       "version_minor": 0
      },
      "text/plain": [
       "Loading safetensors checkpoint shards:   0% Completed | 0/2 [00:00<?, ?it/s]\n"
      ]
     },
     "metadata": {},
     "output_type": "display_data"
    },
    {
     "name": "stdout",
     "output_type": "stream",
     "text": [
      "INFO 05-13 16:29:46 [loader.py:447] Loading weights took 1.32 seconds\n",
      "INFO 05-13 16:29:46 [gpu_model_runner.py:1273] Model loading took 7.1694 GiB and 1.661332 seconds\n",
      "INFO 05-13 16:29:53 [backends.py:416] Using cache directory: /root/.cache/vllm/torch_compile_cache/37d82d9555/rank_0_0 for vLLM's torch.compile\n",
      "INFO 05-13 16:29:53 [backends.py:426] Dynamo bytecode transform time: 7.19 s\n",
      "INFO 05-13 16:29:58 [backends.py:132] Cache the graph of shape None for later use\n",
      "INFO 05-13 16:30:25 [backends.py:144] Compiling a graph for general shape takes 31.07 s\n",
      "INFO 05-13 16:30:42 [monitor.py:33] torch.compile takes 38.26 s in total\n",
      "INFO 05-13 16:30:43 [kv_cache_utils.py:578] GPU KV cache size: 26,464 tokens\n",
      "INFO 05-13 16:30:43 [kv_cache_utils.py:581] Maximum concurrency for 8,192 tokens per request: 3.23x\n",
      "INFO 05-13 16:31:10 [gpu_model_runner.py:1608] Graph capturing finished in 27 secs, took 0.55 GiB\n",
      "INFO 05-13 16:31:10 [core.py:162] init engine (profile, create kv cache, warmup model) took 83.38 seconds\n"
     ]
    }
   ],
   "source": [
    "from vllm import LLM\n",
    "import gc\n",
    "\n",
    "# terminate the previous LLM instance to free up memory\n",
    "llm = None\n",
    "gc.collect()\n",
    "llm = LLM(\n",
    "    model=\"/ssdshare/share/model/Phi-4-mini-instruct\",\n",
    "    max_model_len=8192,\n",
    "    max_num_seqs=1,\n",
    "    gpu_memory_utilization=0.5,\n",
    ")\n"
   ]
  },
  {
   "cell_type": "code",
   "execution_count": 40,
   "metadata": {},
   "outputs": [
    {
     "name": "stdout",
     "output_type": "stream",
     "text": [
      "INFO 05-13 16:31:21 [chat_utils.py:396] Detected the chat template content format to be 'string'. You can set `--chat-template-content-format` to override this.\n"
     ]
    },
    {
     "name": "stderr",
     "output_type": "stream",
     "text": [
      "Processed prompts: 100%|██████████| 1/1 [00:06<00:00,  6.75s/it, est. speed input: 5.19 toks/s, output: 100.08 toks/s]"
     ]
    },
    {
     "name": "stdout",
     "output_type": "stream",
     "text": [
      "Prompt: '<|system|>You are a helpful assistant<|end|><|user|>Hello<|end|><|assistant|>Hello! How can I assist you today?<|end|><|user|>Write an long essay about the importance of higher education.<|end|><|assistant|>',\n",
      "\n",
      "Generated text: 'Title: The Imperative Role of Higher Education in the Modern World\\n\\nIntroduction\\n\\nHigher education, also known as tertiary education, comprises college, university, and other postgraduate programs that extend beyond the secondary level. In this essay, I will explore the myriad ways in which higher education is of utmost importance, not just for individuals but for society as a whole. From economic competitiveness to personal development, the role of higher education is multifaceted and crucial in today’s rapidly evolving world.\\n\\nEconomic Competitiveness and Innovation\\n\\nOne of the foremost reasons higher education is so vital is its contribution to economic competitiveness. In an increasingly globalized economy, nations with a higher percentage of their population holding tertiary degrees tend to outperform others in terms of GDP, productivity, and innovation. Higher education institutions serve as incubators for new ideas, fostering a culture of innovation that drives economic growth. Graduates from these institutions often possess the skills and knowledge necessary to excel in their respective fields, contributing to the overall economic development of their countries.\\n\\nMoreover, higher education plays a pivotal role in developing a highly skilled workforce. With the advent of advanced technologies and automation, there is a growing demand for professionals who possess critical thinking, problem-solving, and technical skills. Higher education institutions equip students with these abilities, ensuring that they are well-prepared to meet the demands of the modern workforce. Without a strong foundation in higher education, economies may struggle to keep up with global trends, leading to stagnation and a decline in competitiveness.\\n\\nSocial Mobility and Equality\\n\\nHigher education is also a powerful tool for promoting social mobility and equality. By providing individuals with the opportunity to acquire valuable skills and knowledge, higher education institutions empower people from diverse backgrounds to improve their socioeconomic status. Education serves as a stepping stone towards achieving personal and professional goals, enabling individuals to break free from the cycle of poverty and inequality.\\n\\nHowever, access to higher education is still a significant challenge in many parts of the world. Disparities in educational opportunities between different regions and socioeconomic groups perpetuate inequality and hinder social mobility. Addressing these disparities is crucial for creating a more equitable society. Governments and educational institutions must work together to ensure that everyone has access to quality higher education, regardless of their background or financial situation.\\n\\nPersonal Development and Critical Thinking\\n\\nBeyond its economic and social implications, higher education is also instrumental in fostering personal development and critical thinking. Engaging in higher education encourages individuals to think critically, analyze information, and develop their own viewpoints. This not only enhances their problem-solving abilities but also promotes intellectual growth and personal fulfillment.\\n\\nHigher education institutions provide a stimulating and intellectually challenging environment, where students are exposed to a wide range of ideas and perspectives. This exposure helps them develop a broader worldview and cultivates their ability to engage in thoughtful and meaningful discussions. Furthermore, pursuing higher education often leads to greater self-discovery, as individuals gain a deeper understanding of their own interests, values, and aspirations.\\n\\nConclusion\\n\\nIn conclusion, higher education plays an indispensable role in today’s world. Its contributions to economic competitiveness, social mobility, and personal development are invaluable. As we continue to navigate the complexities of the 21st century, it is essential that we recognize and support the importance of higher education. By investing in higher education, we not only empower individuals to achieve their full potential but also pave the way for a more prosperous, equitable, and enlightened society.'\n"
     ]
    },
    {
     "name": "stderr",
     "output_type": "stream",
     "text": [
      "\n"
     ]
    }
   ],
   "source": [
    "conversation = [\n",
    "    {\"role\": \"system\", \"content\": \"You are a helpful assistant\"},\n",
    "    {\"role\": \"user\", \"content\": \"Hello\"},\n",
    "    {\"role\": \"assistant\", \"content\": \"Hello! How can I assist you today?\"},\n",
    "    {\n",
    "        \"role\": \"user\",\n",
    "        \"content\": \"Write an long essay about the importance of higher education.\",\n",
    "    },\n",
    "]\n",
    "sampling_params = SamplingParams(\n",
    "    temperature=0.7,\n",
    "    max_tokens=1024,\n",
    ")\n",
    "outputs = llm.chat(conversation, sampling_params)\n",
    "\n",
    "for output in outputs:\n",
    "    prompt = output.prompt\n",
    "    generated_text = output.outputs[0].text\n",
    "    print(f\"Prompt: {prompt!r},\\n\\nGenerated text: {generated_text!r}\")"
   ]
  },
  {
   "cell_type": "code",
   "execution_count": 41,
   "metadata": {},
   "outputs": [
    {
     "data": {
      "text/plain": [
       "89"
      ]
     },
     "execution_count": 41,
     "metadata": {},
     "output_type": "execute_result"
    }
   ],
   "source": [
    "llm = None\n",
    "gc.collect()"
   ]
  },
  {
   "cell_type": "markdown",
   "metadata": {},
   "source": [
    "### 3.2 OpenAI-Compatible Server\n"
   ]
  },
  {
   "cell_type": "markdown",
   "metadata": {},
   "source": [
    "You can start the server via the vllm serve command:\n"
   ]
  },
  {
   "cell_type": "code",
   "execution_count": 42,
   "metadata": {},
   "outputs": [],
   "source": [
    "# run it in your terminal\n",
    "# vllm serve /ssdshare/share/model/Phi-4-mini-instruct --dtype auto --api-key token-abc123 --max-model-len 16384"
   ]
  },
  {
   "cell_type": "markdown",
   "metadata": {},
   "source": [
    "Now you can use OpenAI python package to access the endpoint:\n"
   ]
  },
  {
   "cell_type": "code",
   "execution_count": 43,
   "metadata": {},
   "outputs": [
    {
     "name": "stdout",
     "output_type": "stream",
     "text": [
      "Hello! How can I assist you today?\n"
     ]
    }
   ],
   "source": [
    "from openai import OpenAI\n",
    "\n",
    "client = OpenAI(\n",
    "    base_url=\"http://localhost:8000/v1\",\n",
    "    api_key=\"token-abc123\",\n",
    ")\n",
    "\n",
    "completion = client.chat.completions.create(\n",
    "    model=\"/ssdshare/share/model/Phi-4-mini-instruct\",\n",
    "    messages=[{\"role\": \"user\", \"content\": \"Hello!\"}],\n",
    ")\n",
    "\n",
    "print(completion.choices[0].message.content)"
   ]
  },
  {
   "cell_type": "markdown",
   "metadata": {},
   "source": [
    "vllm provides a set of endpoints that are compatible with OpenAI API, like completion, chat completion, embedding, and so on. You can find the full list of endpoints in the vllm documentation.\n",
    "\n",
    "Moreover, vllm also provides a set of metrics endpoints that can be used to monitor the state and performance of the server.\n",
    "Some of the metrics are: TTFT, TPOT.\n",
    "\n",
    "TTFT is the time it takes to generate the first token of the response. TPOT is the time it takes to generate each token of the response. These metrics are so-called SLO (Service Level Objective) metrics, which are used to measure the performance of the server. VLLM did a lot of work to optimize these SLO.\n"
   ]
  },
  {
   "attachments": {},
   "cell_type": "markdown",
   "metadata": {},
   "source": [
    "## 4 Adding a Web User Interface using `gradio`\n",
    "\n",
    "Demo a machine learning application is important. It gives the users a direct experience of your algorithm in an interactive manner. Here we'll be building an interesting demo using `gradio`, a popular Python library for ML demos. Let's install this library.\n"
   ]
  },
  {
   "cell_type": "markdown",
   "metadata": {},
   "source": [
    "### 4.1 Basic Gradio\n"
   ]
  },
  {
   "cell_type": "code",
   "execution_count": 44,
   "metadata": {},
   "outputs": [],
   "source": [
    "# % pip install gradio --upgrade"
   ]
  },
  {
   "attachments": {},
   "cell_type": "markdown",
   "metadata": {},
   "source": [
    "Then we are able to write an example UI that takes in a text string and output a processed string.\n"
   ]
  },
  {
   "cell_type": "code",
   "execution_count": 51,
   "metadata": {},
   "outputs": [
    {
     "name": "stdout",
     "output_type": "stream",
     "text": [
      "Overwriting /tmp/gradio_example.py\n"
     ]
    }
   ],
   "source": [
    "%%file /tmp/gradio_example.py\n",
    "\n",
    "import gradio as gr\n",
    "\n",
    "\n",
    "def greet(name, intensity):\n",
    "    return \"Hello, hello \" + name + \"!\" * int(intensity)\n",
    "\n",
    "\n",
    "demo = gr.Interface(\n",
    "    fn=greet,\n",
    "    inputs=[\"text\", \"slider\"],\n",
    "    outputs=[\"text\"],\n",
    ")\n",
    "\n",
    "demo.launch(share=True)\n"
   ]
  },
  {
   "cell_type": "code",
   "execution_count": 49,
   "metadata": {},
   "outputs": [],
   "source": [
    "# Start the gradio server by runnning the following command\n",
    "\n",
    "# python /tmp/gradio_example.py"
   ]
  },
  {
   "cell_type": "code",
   "execution_count": 50,
   "metadata": {},
   "outputs": [],
   "source": [
    "## Add the port forwarding (port 7860 by default), and you can see http://localhost:7860 in your browser\n",
    "\n",
    "## Try change the last line (launch) to\n",
    "\n",
    "## demo.launch(share=True)\n",
    "## observe the output and see the link to open (without the need of port forwarding)\n"
   ]
  },
  {
   "cell_type": "markdown",
   "metadata": {},
   "source": [
    "### 4.2 The ChatInterface\n"
   ]
  },
  {
   "cell_type": "code",
   "execution_count": 52,
   "metadata": {},
   "outputs": [
    {
     "name": "stdout",
     "output_type": "stream",
     "text": [
      "Overwriting /tmp/gradio_example.py\n"
     ]
    }
   ],
   "source": [
    "%%file /tmp/gradio_example.py\n",
    "\n",
    "import random\n",
    "\n",
    "\n",
    "def random_response(message, history):\n",
    "    return random.choice([\"Yes\", \"No\"])\n",
    "\n",
    "\n",
    "import gradio as gr\n",
    "\n",
    "gr.ChatInterface(random_response).launch()"
   ]
  },
  {
   "cell_type": "code",
   "execution_count": 53,
   "metadata": {},
   "outputs": [],
   "source": [
    "# Kill your previous process, and restart the new process\n",
    "\n",
    "# python /tmp/gradio_example.py\n",
    "\n",
    "## Add the port forwarding (port 7860 by default), and you can see http://localhost:7860 in your browser\n",
    "## If you do not kill the previous one, the port number will change to 7861 automatically."
   ]
  },
  {
   "cell_type": "markdown",
   "metadata": {},
   "source": [
    "### 4.3 Quick and dirty way of creating a UI for a HuggingFace pipeline\n"
   ]
  },
  {
   "cell_type": "code",
   "execution_count": 54,
   "metadata": {},
   "outputs": [
    {
     "name": "stdout",
     "output_type": "stream",
     "text": [
      "Writing /tmp/simpleui.py\n"
     ]
    }
   ],
   "source": [
    "%%file /tmp/simpleui.py\n",
    "\n",
    "from transformers import AutoModelForCausalLM, AutoTokenizer, pipeline\n",
    "import gradio as gr\n",
    "\n",
    "model_path = \"/ssdshare/share/model/Phi-4-mini-instruct\"\n",
    "tokenizer = AutoTokenizer.from_pretrained(model_path)\n",
    "model = AutoModelForCausalLM.from_pretrained(\n",
    "    model_path, device_map=\"cuda:0\", torch_dtype=\"auto\", trust_remote_code=True\n",
    ")\n",
    "pipe = pipeline(\n",
    "    \"text-generation\",\n",
    "    model=model,\n",
    "    tokenizer=tokenizer,\n",
    "    temperature=0.6,\n",
    "    do_sample=True,\n",
    "    return_full_text=False,\n",
    "    max_new_tokens=500,\n",
    ")\n",
    "gr.Interface.from_pipeline(pipe).launch(debug=True)"
   ]
  },
  {
   "cell_type": "code",
   "execution_count": 61,
   "metadata": {},
   "outputs": [],
   "source": [
    "# python /tmp/simpleui.py\n",
    "\n",
    "## Add the port forwarding (port 7860 by default), and you can see http://localhost:7860 in your browser\n",
    "## If you do not kill the previous one, the port number will change to 7861 or 7862 automatically."
   ]
  },
  {
   "attachments": {},
   "cell_type": "markdown",
   "metadata": {},
   "source": [
    "### 4.4 A better way to build a web UI for LLM (through an LLM API server)\n",
    "\n",
    "Next, you should implement a script that interact with the Phi-4-mini Chat API server you just created.\n",
    "\n",
    "Note that you should directly call the API server using request, instead of running the LLM within your UI server process.\n",
    "\n",
    "![Illustration of request](./assets/request.jpg)\n"
   ]
  },
  {
   "cell_type": "code",
   "execution_count": 55,
   "metadata": {},
   "outputs": [
    {
     "name": "stdout",
     "output_type": "stream",
     "text": [
      "Writing /tmp/chatUI.py\n"
     ]
    }
   ],
   "source": [
    "%%file /tmp/chatUI.py\n",
    "\n",
    "import gradio as gr\n",
    "import requests\n",
    "import json\n",
    "\n",
    "def predict(message, history):\n",
    "\n",
    "#### Your Task ####\n",
    "# Insert code here to perform the inference\n",
    "# You can use either the hand-crafted API server or the OpenAI-compatible vLLM server\n",
    "#### End Task ####\n",
    "\n",
    "gr.ChatInterface(predict).launch()"
   ]
  },
  {
   "cell_type": "code",
   "execution_count": 56,
   "metadata": {},
   "outputs": [],
   "source": [
    "## Do not forget to start your API server (from above, use the /chat API or use the vLLM)"
   ]
  },
  {
   "cell_type": "code",
   "execution_count": 57,
   "metadata": {},
   "outputs": [],
   "source": [
    "## Add the port forwarding (port 7860 by default), and you can see http://localhost:7860 in your browser\n",
    "## If you do not kill the previous one, the port number will change to 7861 or 7862 automatically."
   ]
  },
  {
   "attachments": {},
   "cell_type": "markdown",
   "metadata": {},
   "source": [
    "### 4.5 More Gradio: Streaming and Multi-media\n",
    "\n",
    "Gradio also supports streaming and multi-media input and output.\n",
    "\n",
    "Magic happens from the `streaming=True` parameter.\n"
   ]
  },
  {
   "cell_type": "code",
   "execution_count": 58,
   "metadata": {},
   "outputs": [
    {
     "name": "stdout",
     "output_type": "stream",
     "text": [
      "Writing /tmp/transcribe.py\n"
     ]
    }
   ],
   "source": [
    "%%file /tmp/transcribe.py\n",
    "\n",
    "import torch\n",
    "from transformers import AutoModelForSpeechSeq2Seq, AutoProcessor, pipeline\n",
    "import numpy as np\n",
    "import gradio as gr\n",
    "\n",
    "device = \"cuda:0\" if torch.cuda.is_available() else \"cpu\"\n",
    "torch_dtype = torch.float16 if torch.cuda.is_available() else torch.float32\n",
    "\n",
    "model_path = \"/ssdshare/share/model/whisper-large-v3-turbo\"  # a multi-lingual audio transcription model\n",
    "\n",
    "model = AutoModelForSpeechSeq2Seq.from_pretrained(\n",
    "    model_path, torch_dtype=torch_dtype, low_cpu_mem_usage=True, use_safetensors=True\n",
    ")\n",
    "model.to(device)\n",
    "\n",
    "processor = AutoProcessor.from_pretrained(model_path)\n",
    "\n",
    "pipe = pipeline(\n",
    "    \"automatic-speech-recognition\",\n",
    "    model=model,\n",
    "    tokenizer=processor.tokenizer,\n",
    "    feature_extractor=processor.feature_extractor,\n",
    "    torch_dtype=torch_dtype,\n",
    "    device=device,\n",
    ")\n",
    "\n",
    "\n",
    "def transcribe(stream, new_chunk):\n",
    "    sr, y = new_chunk\n",
    "\n",
    "    # Convert to mono if stereo\n",
    "    if y.ndim > 1:\n",
    "        y = y.mean(axis=1)\n",
    "\n",
    "    # normalize\n",
    "    y = y.astype(np.float32)\n",
    "    y /= np.max(np.abs(y))\n",
    "\n",
    "    if stream is not None:\n",
    "        stream = np.concatenate([stream, y])\n",
    "    else:\n",
    "        stream = y\n",
    "    return stream, pipe(\n",
    "        {\n",
    "            \"sampling_rate\": sr,\n",
    "            \"raw\": stream,\n",
    "            \"return_timestamps\": True,\n",
    "            \"task\": \"transcribe\",\n",
    "            \"language\": \"chinese\",\n",
    "        }\n",
    "    )[\"text\"]\n",
    "\n",
    "\n",
    "demo = gr.Interface(\n",
    "    transcribe,\n",
    "    [\n",
    "        \"state\",\n",
    "        gr.Audio(sources=[\"microphone\"], streaming=True),\n",
    "    ],  # note the streaming=True\n",
    "    [\"state\", \"text\"],\n",
    "    live=True,\n",
    "    time_limit=30,\n",
    "    stream_every=0.5,\n",
    ")\n",
    "\n",
    "demo.launch()"
   ]
  },
  {
   "cell_type": "markdown",
   "metadata": {},
   "source": [
    "Try it!\n"
   ]
  },
  {
   "cell_type": "code",
   "execution_count": 59,
   "metadata": {},
   "outputs": [],
   "source": [
    "## python /tmp/transcribe.py"
   ]
  },
  {
   "cell_type": "markdown",
   "metadata": {},
   "source": [
    "### 4.6 Build your own Gradio UI\n",
    "\n",
    "Create a separate Gradio UI to serve other models. Maybe an image model in Lab 5, or a translation model cooperated with a transcription model? Explore the Gradio documentation and HuggingFace model cards.\n"
   ]
  },
  {
   "cell_type": "code",
   "execution_count": 60,
   "metadata": {},
   "outputs": [],
   "source": [
    "#### Your Task ####\n",
    "#### End Task ####"
   ]
  }
 ],
 "metadata": {
  "kernelspec": {
   "display_name": "Python 3",
   "language": "python",
   "name": "python3"
  },
  "language_info": {
   "codemirror_mode": {
    "name": "ipython",
    "version": 3
   },
   "file_extension": ".py",
   "mimetype": "text/x-python",
   "name": "python",
   "nbconvert_exporter": "python",
   "pygments_lexer": "ipython3",
   "version": "3.10.12"
  },
  "orig_nbformat": 4
 },
 "nbformat": 4,
 "nbformat_minor": 2
}
